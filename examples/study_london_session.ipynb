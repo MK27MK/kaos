{
 "cells": [
  {
   "cell_type": "markdown",
   "id": "e08e2180",
   "metadata": {},
   "source": [
    "## accesso al daily firstrate"
   ]
  },
  {
   "cell_type": "code",
   "execution_count": 19,
   "id": "4a9e9f44",
   "metadata": {},
   "outputs": [],
   "source": [
    "from revelation.data.loading import (\n",
    "    Catalog,\n",
    "    firstrate_dirname,\n",
    "    firstrate_filename,\n",
    "    CSVPresets,\n",
    ")\n",
    "import pandas as pd\n",
    "\n",
    "catalog = Catalog()\n",
    "\n",
    "ohlc_d: pd.DataFrame = catalog.get_csv(\n",
    "    catalog._raw_directory\n",
    "    / \"csv/firstrate\"\n",
    "    / firstrate_dirname()\n",
    "    / firstrate_filename(),\n",
    "    preset=CSVPresets.FIRSTRATE,\n",
    ")"
   ]
  },
  {
   "cell_type": "code",
   "execution_count": 17,
   "id": "40d12a31",
   "metadata": {},
   "outputs": [
    {
     "name": "stdout",
     "output_type": "stream",
     "text": [
      "is_unique True\n",
      "is_sorted True\n"
     ]
    }
   ],
   "source": [
    "# print(ohlc_d.info())\n",
    "print(\"is_unique\", ohlc_d.index.is_unique)\n",
    "print(\"is_sorted\", ohlc_d.index.is_monotonic_increasing)"
   ]
  },
  {
   "cell_type": "code",
   "execution_count": null,
   "id": "5c39eed2",
   "metadata": {},
   "outputs": [],
   "source": [
    "from revelation.visualization import set_chart\n",
    "\n",
    "chart = set_chart(ohlc_d)\n",
    "chart.load()"
   ]
  },
  {
   "cell_type": "markdown",
   "id": "6769c05a",
   "metadata": {},
   "source": [
    "## accesso ai dati tradingview"
   ]
  },
  {
   "cell_type": "code",
   "execution_count": 20,
   "id": "900d6651",
   "metadata": {},
   "outputs": [],
   "source": [
    "import vectorbtpro as vbt\n",
    "\n",
    "data = vbt.TVData.pull(\"NASDAQ:AAPL\", timeframe=\"1 hour\")"
   ]
  },
  {
   "cell_type": "code",
   "execution_count": null,
   "id": "523a4aed",
   "metadata": {},
   "outputs": [
    {
     "data": {
      "text/plain": [
       "<vectorbtpro.data.custom.tv.TVData at 0x7efab1d6b0b0>"
      ]
     },
     "execution_count": 21,
     "metadata": {},
     "output_type": "execute_result"
    }
   ],
   "source": [
    "data"
   ]
  }
 ],
 "metadata": {
  "kernelspec": {
   "display_name": ".venv",
   "language": "python",
   "name": "python3"
  },
  "language_info": {
   "codemirror_mode": {
    "name": "ipython",
    "version": 3
   },
   "file_extension": ".py",
   "mimetype": "text/x-python",
   "name": "python",
   "nbconvert_exporter": "python",
   "pygments_lexer": "ipython3",
   "version": "3.12.7"
  }
 },
 "nbformat": 4,
 "nbformat_minor": 5
}

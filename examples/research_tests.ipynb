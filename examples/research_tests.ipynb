{
 "cells": [
  {
   "cell_type": "code",
   "execution_count": 7,
   "id": "2f530288",
   "metadata": {},
   "outputs": [
    {
     "data": {
      "text/plain": [
       "True"
      ]
     },
     "execution_count": 7,
     "metadata": {},
     "output_type": "execute_result"
    }
   ],
   "source": [
    "import pandas as pd\n",
    "from revelation.data.loading import read_text, CSVPresets\n",
    "from pathlib import Path\n",
    "\n",
    "from dotenv import load_dotenv\n",
    "import os\n",
    "\n",
    "load_dotenv()"
   ]
  },
  {
   "cell_type": "code",
   "execution_count": 8,
   "id": "72b168ad",
   "metadata": {},
   "outputs": [],
   "source": [
    "DATA_PATH = Path(os.getenv(\"DATA_PATH\"))\n",
    "product = \"E6\"\n",
    "month_code = \"H\"\n",
    "year = 2024\n",
    "multiplier = \"1\"\n",
    "resolution = \"day\"\n",
    "extension = \".txt\"\n",
    "filename = f\"{product}_{month_code}{year % 2000}_{multiplier}{resolution}{extension}\"\n",
    "\n",
    "# TODO use the same timeframe naming convention for both directory and files\n",
    "some_contract: Path = Path(DATA_PATH / \"csv/firstrate/indi_arch_fut_1d\" / filename)"
   ]
  },
  {
   "cell_type": "code",
   "execution_count": 9,
   "id": "8d603278",
   "metadata": {},
   "outputs": [
    {
     "name": "stdout",
     "output_type": "stream",
     "text": [
      "<class 'pandas.core.frame.DataFrame'>\n",
      "DatetimeIndex: 1271 entries, 2019-03-05 to 2024-03-18\n",
      "Data columns (total 6 columns):\n",
      " #   Column         Non-Null Count  Dtype  \n",
      "---  ------         --------------  -----  \n",
      " 0   open           1271 non-null   float64\n",
      " 1   high           1271 non-null   float64\n",
      " 2   low            1271 non-null   float64\n",
      " 3   close          1271 non-null   float64\n",
      " 4   volume         1271 non-null   int64  \n",
      " 5   open_interest  1271 non-null   int64  \n",
      "dtypes: float64(4), int64(2)\n",
      "memory usage: 69.5 KB\n"
     ]
    }
   ],
   "source": [
    "df: pd.DataFrame = read_text(some_contract, CSVPresets.PRESET_FIRSTRATE)\n",
    "df.info()"
   ]
  },
  {
   "cell_type": "code",
   "execution_count": null,
   "id": "2108881e",
   "metadata": {},
   "outputs": [
    {
     "data": {
      "text/plain": [
       "DatetimeIndex(['2019-03-05', '2019-03-06', '2019-03-07', '2019-03-08',\n",
       "               '2019-03-11', '2019-03-12', '2019-03-13', '2019-03-14',\n",
       "               '2019-03-15', '2019-03-18',\n",
       "               ...\n",
       "               '2024-03-05', '2024-03-06', '2024-03-07', '2024-03-08',\n",
       "               '2024-03-11', '2024-03-12', '2024-03-13', '2024-03-14',\n",
       "               '2024-03-15', '2024-03-18'],\n",
       "              dtype='datetime64[ns]', name='timestamp', length=1271, freq=None)"
      ]
     },
     "execution_count": 10,
     "metadata": {},
     "output_type": "execute_result"
    }
   ],
   "source": []
  }
 ],
 "metadata": {
  "kernelspec": {
   "display_name": ".venv",
   "language": "python",
   "name": "python3"
  },
  "language_info": {
   "codemirror_mode": {
    "name": "ipython",
    "version": 3
   },
   "file_extension": ".py",
   "mimetype": "text/x-python",
   "name": "python",
   "nbconvert_exporter": "python",
   "pygments_lexer": "ipython3",
   "version": "3.12.7"
  }
 },
 "nbformat": 4,
 "nbformat_minor": 5
}

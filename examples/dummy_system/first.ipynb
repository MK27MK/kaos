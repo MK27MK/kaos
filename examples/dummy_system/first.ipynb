{
 "cells": [
  {
   "cell_type": "code",
   "execution_count": 3,
   "metadata": {},
   "outputs": [],
   "source": [
    "import shutil\n",
    "from decimal import Decimal\n",
    "from pathlib import Path\n",
    "\n",
    "import pandas as pd\n",
    "from dotenv import load_dotenv\n",
    "import os"
   ]
  },
  {
   "cell_type": "code",
   "execution_count": 4,
   "metadata": {},
   "outputs": [],
   "source": [
    "from nautilus_trader.backtest.node import (\n",
    "    BacktestDataConfig,\n",
    "    BacktestEngineConfig,\n",
    "    BacktestNode,\n",
    "    BacktestRunConfig,\n",
    "    BacktestVenueConfig,\n",
    ")"
   ]
  },
  {
   "cell_type": "code",
   "execution_count": 5,
   "metadata": {},
   "outputs": [],
   "source": [
    "from nautilus_trader.test_kit.providers import CSVBarDataLoader\n",
    "from nautilus_trader.test_kit.providers import TestInstrumentProvider\n",
    "from nautilus_trader.persistence.catalog import ParquetDataCatalog\n",
    "from nautilus_trader.persistence.wranglers import BarDataWrangler\n",
    "from nautilus_trader.model.instruments import FuturesContract\n",
    "from nautilus_trader.model.data import BarType\n",
    "from nautilus_trader.core.datetime import dt_to_unix_nanos"
   ]
  },
  {
   "cell_type": "code",
   "execution_count": 6,
   "metadata": {},
   "outputs": [
    {
     "data": {
      "application/vnd.microsoft.datawrangler.viewer.v0+json": {
       "columns": [
        {
         "name": "timestamp",
         "rawType": "datetime64[ns]",
         "type": "datetime"
        },
        {
         "name": "open",
         "rawType": "float64",
         "type": "float"
        },
        {
         "name": "high",
         "rawType": "float64",
         "type": "float"
        },
        {
         "name": "low",
         "rawType": "float64",
         "type": "float"
        },
        {
         "name": "close",
         "rawType": "float64",
         "type": "float"
        },
        {
         "name": "volume",
         "rawType": "int64",
         "type": "integer"
        }
       ],
       "conversionMethod": "pd.DataFrame",
       "ref": "ad724f7e-3aee-448e-b159-2fd4e46ffd16",
       "rows": [
        [
         "2024-06-11 00:00:00",
         "1.0768",
         "1.0777",
         "1.0723",
         "1.07465",
         "417297"
        ],
        [
         "2024-06-12 00:00:00",
         "1.0743",
         "1.08555",
         "1.07375",
         "1.0817",
         "569877"
        ],
        [
         "2024-06-13 00:00:00",
         "1.0814",
         "1.0818",
         "1.07345",
         "1.0741",
         "368141"
        ],
        [
         "2024-06-14 00:00:00",
         "1.0738",
         "1.07455",
         "1.0668",
         "1.06995",
         "100280"
        ],
        [
         "2024-06-17 00:00:00",
         "1.0704",
         "1.0719",
         "1.0687",
         "1.07145",
         "15995"
        ]
       ],
       "shape": {
        "columns": 5,
        "rows": 5
       }
      },
      "text/html": [
       "<div>\n",
       "<style scoped>\n",
       "    .dataframe tbody tr th:only-of-type {\n",
       "        vertical-align: middle;\n",
       "    }\n",
       "\n",
       "    .dataframe tbody tr th {\n",
       "        vertical-align: top;\n",
       "    }\n",
       "\n",
       "    .dataframe thead th {\n",
       "        text-align: right;\n",
       "    }\n",
       "</style>\n",
       "<table border=\"1\" class=\"dataframe\">\n",
       "  <thead>\n",
       "    <tr style=\"text-align: right;\">\n",
       "      <th></th>\n",
       "      <th>open</th>\n",
       "      <th>high</th>\n",
       "      <th>low</th>\n",
       "      <th>close</th>\n",
       "      <th>volume</th>\n",
       "    </tr>\n",
       "    <tr>\n",
       "      <th>timestamp</th>\n",
       "      <th></th>\n",
       "      <th></th>\n",
       "      <th></th>\n",
       "      <th></th>\n",
       "      <th></th>\n",
       "    </tr>\n",
       "  </thead>\n",
       "  <tbody>\n",
       "    <tr>\n",
       "      <th>2024-06-11</th>\n",
       "      <td>1.0768</td>\n",
       "      <td>1.07770</td>\n",
       "      <td>1.07230</td>\n",
       "      <td>1.07465</td>\n",
       "      <td>417297</td>\n",
       "    </tr>\n",
       "    <tr>\n",
       "      <th>2024-06-12</th>\n",
       "      <td>1.0743</td>\n",
       "      <td>1.08555</td>\n",
       "      <td>1.07375</td>\n",
       "      <td>1.08170</td>\n",
       "      <td>569877</td>\n",
       "    </tr>\n",
       "    <tr>\n",
       "      <th>2024-06-13</th>\n",
       "      <td>1.0814</td>\n",
       "      <td>1.08180</td>\n",
       "      <td>1.07345</td>\n",
       "      <td>1.07410</td>\n",
       "      <td>368141</td>\n",
       "    </tr>\n",
       "    <tr>\n",
       "      <th>2024-06-14</th>\n",
       "      <td>1.0738</td>\n",
       "      <td>1.07455</td>\n",
       "      <td>1.06680</td>\n",
       "      <td>1.06995</td>\n",
       "      <td>100280</td>\n",
       "    </tr>\n",
       "    <tr>\n",
       "      <th>2024-06-17</th>\n",
       "      <td>1.0704</td>\n",
       "      <td>1.07190</td>\n",
       "      <td>1.06870</td>\n",
       "      <td>1.07145</td>\n",
       "      <td>15995</td>\n",
       "    </tr>\n",
       "  </tbody>\n",
       "</table>\n",
       "</div>"
      ],
      "text/plain": [
       "              open     high      low    close  volume\n",
       "timestamp                                            \n",
       "2024-06-11  1.0768  1.07770  1.07230  1.07465  417297\n",
       "2024-06-12  1.0743  1.08555  1.07375  1.08170  569877\n",
       "2024-06-13  1.0814  1.08180  1.07345  1.07410  368141\n",
       "2024-06-14  1.0738  1.07455  1.06680  1.06995  100280\n",
       "2024-06-17  1.0704  1.07190  1.06870  1.07145   15995"
      ]
     },
     "execution_count": 6,
     "metadata": {},
     "output_type": "execute_result"
    }
   ],
   "source": [
    "# this will be my default data directory from now on, see if you need to\n",
    "# add it to env variables or something\n",
    "DATA_DIR = \"/home/Downloads/data\"\n",
    "\n",
    "SAMPLE_CSV = (\n",
    "    \"/home/mattia-carella/Downloads/data/csv/firstrate\"\n",
    "    \"/indi_arch_fut_1d/E6_M24_1day.txt\"\n",
    ")\n",
    "df = CSVBarDataLoader.load(\n",
    "    SAMPLE_CSV,\n",
    "    index_col=0,\n",
    "    header=None,\n",
    "    names=[\"timestamp\", \"open\", \"high\", \"low\", \"close\", \"volume\", \"oi\"],\n",
    "    # usecols=[\"open\", \"high\", \"low\", \"close\", \"volume\"],\n",
    "    parse_dates=True,\n",
    ")[[\"open\", \"high\", \"low\", \"close\", \"volume\"]]\n",
    "df.tail()"
   ]
  },
  {
   "cell_type": "markdown",
   "metadata": {},
   "source": [
    "## initialize intrument and bar wrangler\n"
   ]
  },
  {
   "cell_type": "code",
   "execution_count": 7,
   "metadata": {},
   "outputs": [
    {
     "data": {
      "text/plain": [
       "Bar(E6M4.XCME-1-DAY-LAST-EXTERNAL,1.07,1.07,1.07,1.07,15995,1718582400000000000)"
      ]
     },
     "execution_count": 7,
     "metadata": {},
     "output_type": "execute_result"
    }
   ],
   "source": [
    "# equivalent to FuturesContract(...)\n",
    "INSTRUMENT = TestInstrumentProvider.future(\n",
    "    \"E6M4\", \"E6\"\n",
    ")  # activation and expiration are wrong, price precision must be fixed\n",
    "\n",
    "bar_type = BarType.from_str(\"E6M4.XCME-1-DAY-LAST-EXTERNAL\")\n",
    "wrangler = BarDataWrangler(bar_type, INSTRUMENT)\n",
    "bars = wrangler.process(df)\n",
    "# display the last bar\n",
    "bars[-1]"
   ]
  },
  {
   "cell_type": "markdown",
   "metadata": {},
   "source": [
    "## creating a parquet data catalog\n"
   ]
  },
  {
   "cell_type": "code",
   "execution_count": 8,
   "metadata": {},
   "outputs": [
    {
     "ename": "TypeError",
     "evalue": "argument should be a str or an os.PathLike object where __fspath__ returns a str, not 'NoneType'",
     "output_type": "error",
     "traceback": [
      "\u001b[31m---------------------------------------------------------------------------\u001b[39m",
      "\u001b[31mTypeError\u001b[39m                                 Traceback (most recent call last)",
      "\u001b[36mCell\u001b[39m\u001b[36m \u001b[39m\u001b[32mIn[8]\u001b[39m\u001b[32m, line 4\u001b[39m\n\u001b[32m      1\u001b[39m \u001b[38;5;66;03m# Load environment variables\u001b[39;00m\n\u001b[32m      2\u001b[39m load_dotenv()\n\u001b[32m----> \u001b[39m\u001b[32m4\u001b[39m CATALOG_PATH = \u001b[43mPath\u001b[49m\u001b[43m(\u001b[49m\u001b[43mos\u001b[49m\u001b[43m.\u001b[49m\u001b[43mgetenv\u001b[49m\u001b[43m(\u001b[49m\u001b[33;43m\"\u001b[39;49m\u001b[33;43mNAUTILUS_CATALOG_PATH\u001b[39;49m\u001b[33;43m\"\u001b[39;49m\u001b[43m)\u001b[49m\u001b[43m)\u001b[49m\n\u001b[32m      5\u001b[39m CATALOG_PATH.mkdir(parents=\u001b[38;5;28;01mTrue\u001b[39;00m, exist_ok=\u001b[38;5;28;01mTrue\u001b[39;00m)\n",
      "\u001b[36mFile \u001b[39m\u001b[32m~/snap/code/187/.local/share/uv/python/cpython-3.12.7-linux-x86_64-gnu/lib/python3.12/pathlib.py:1162\u001b[39m, in \u001b[36mPath.__init__\u001b[39m\u001b[34m(self, *args, **kwargs)\u001b[39m\n\u001b[32m   1159\u001b[39m     msg = (\u001b[33m\"\u001b[39m\u001b[33msupport for supplying keyword arguments to pathlib.PurePath \u001b[39m\u001b[33m\"\u001b[39m\n\u001b[32m   1160\u001b[39m            \u001b[33m\"\u001b[39m\u001b[33mis deprecated and scheduled for removal in Python \u001b[39m\u001b[38;5;132;01m{remove}\u001b[39;00m\u001b[33m\"\u001b[39m)\n\u001b[32m   1161\u001b[39m     warnings._deprecated(\u001b[33m\"\u001b[39m\u001b[33mpathlib.PurePath(**kwargs)\u001b[39m\u001b[33m\"\u001b[39m, msg, remove=(\u001b[32m3\u001b[39m, \u001b[32m14\u001b[39m))\n\u001b[32m-> \u001b[39m\u001b[32m1162\u001b[39m \u001b[38;5;28;43msuper\u001b[39;49m\u001b[43m(\u001b[49m\u001b[43m)\u001b[49m\u001b[43m.\u001b[49m\u001b[34;43m__init__\u001b[39;49m\u001b[43m(\u001b[49m\u001b[43m*\u001b[49m\u001b[43margs\u001b[49m\u001b[43m)\u001b[49m\n",
      "\u001b[36mFile \u001b[39m\u001b[32m~/snap/code/187/.local/share/uv/python/cpython-3.12.7-linux-x86_64-gnu/lib/python3.12/pathlib.py:373\u001b[39m, in \u001b[36mPurePath.__init__\u001b[39m\u001b[34m(self, *args)\u001b[39m\n\u001b[32m    371\u001b[39m             path = arg\n\u001b[32m    372\u001b[39m         \u001b[38;5;28;01mif\u001b[39;00m \u001b[38;5;129;01mnot\u001b[39;00m \u001b[38;5;28misinstance\u001b[39m(path, \u001b[38;5;28mstr\u001b[39m):\n\u001b[32m--> \u001b[39m\u001b[32m373\u001b[39m             \u001b[38;5;28;01mraise\u001b[39;00m \u001b[38;5;167;01mTypeError\u001b[39;00m(\n\u001b[32m    374\u001b[39m                 \u001b[33m\"\u001b[39m\u001b[33margument should be a str or an os.PathLike \u001b[39m\u001b[33m\"\u001b[39m\n\u001b[32m    375\u001b[39m                 \u001b[33m\"\u001b[39m\u001b[33mobject where __fspath__ returns a str, \u001b[39m\u001b[33m\"\u001b[39m\n\u001b[32m    376\u001b[39m                 \u001b[33mf\u001b[39m\u001b[33m\"\u001b[39m\u001b[33mnot \u001b[39m\u001b[38;5;132;01m{\u001b[39;00m\u001b[38;5;28mtype\u001b[39m(path).\u001b[34m__name__\u001b[39m\u001b[38;5;132;01m!r}\u001b[39;00m\u001b[33m\"\u001b[39m)\n\u001b[32m    377\u001b[39m         paths.append(path)\n\u001b[32m    378\u001b[39m \u001b[38;5;28mself\u001b[39m._raw_paths = paths\n",
      "\u001b[31mTypeError\u001b[39m: argument should be a str or an os.PathLike object where __fspath__ returns a str, not 'NoneType'"
     ]
    }
   ],
   "source": [
    "# Load environment variables\n",
    "load_dotenv()\n",
    "\n",
    "CATALOG_PATH = Path(os.getenv(\"NAUTILUS_CATALOG_PATH\"))\n",
    "CATALOG_PATH.mkdir(parents=True, exist_ok=True)"
   ]
  },
  {
   "cell_type": "code",
   "execution_count": null,
   "metadata": {},
   "outputs": [],
   "source": [
    "catalog = ParquetDataCatalog(CATALOG_PATH)\n",
    "\n",
    "# adesso funziona\n",
    "basename_template = f\"{INSTRUMENT.symbol}\"\n",
    "\n",
    "# write instrument and bars to the catalog\n",
    "catalog.write_data([INSTRUMENT])  # , basename_template=basename_template)\n",
    "catalog.write_data(bars)  # , basename_template=basename_template)"
   ]
  },
  {
   "cell_type": "code",
   "execution_count": null,
   "metadata": {},
   "outputs": [],
   "source": [
    "catalog.instruments()[0]"
   ]
  },
  {
   "cell_type": "markdown",
   "metadata": {},
   "source": [
    "## Reading the catalog\n"
   ]
  },
  {
   "cell_type": "code",
   "execution_count": null,
   "metadata": {},
   "outputs": [],
   "source": [
    "bars = catalog.bars()"
   ]
  }
 ],
 "metadata": {
  "kernelspec": {
   "display_name": ".venv",
   "language": "python",
   "name": "python3"
  },
  "language_info": {
   "codemirror_mode": {
    "name": "ipython",
    "version": 3
   },
   "file_extension": ".py",
   "mimetype": "text/x-python",
   "name": "python",
   "nbconvert_exporter": "python",
   "pygments_lexer": "ipython3",
   "version": "3.12.7"
  }
 },
 "nbformat": 4,
 "nbformat_minor": 2
}

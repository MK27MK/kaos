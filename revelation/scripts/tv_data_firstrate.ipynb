{
 "cells": [
  {
   "cell_type": "code",
   "execution_count": 17,
   "id": "cc2dd49e",
   "metadata": {},
   "outputs": [],
   "source": [
    "import pandas as pd\n",
    "import vectorbtpro as vbt\n",
    "\n",
    "\n",
    "from pathlib import Path\n",
    "from dotenv import load_dotenv\n",
    "import os\n",
    "\n",
    "# Load environment variables from .env file\n",
    "load_dotenv()\n",
    "DATA_PATH = Path(os.getenv(\"DATA_PATH\"))\n",
    "DAILY_FIRSTRATE_DIR = DATA_PATH / \"csv/firstrate/indi_arch_fut_1d\"\n",
    "\n",
    "file_set = set()\n",
    "for file in DAILY_FIRSTRATE_DIR.iterdir():\n",
    "    file_set.add(file.name.split(\"_\")[0])"
   ]
  },
  {
   "cell_type": "code",
   "execution_count": 18,
   "id": "3f19f349",
   "metadata": {},
   "outputs": [
    {
     "data": {
      "text/plain": [
       "'numero totale di prodotti: 137'"
      ]
     },
     "execution_count": 18,
     "metadata": {},
     "output_type": "execute_result"
    }
   ],
   "source": [
    "\"numero totale di prodotti: \" + str(len(file_set))"
   ]
  },
  {
   "cell_type": "markdown",
   "id": "2ef8350c",
   "metadata": {},
   "source": [
    "non procedo oltre perche ho visto di averli già in parquet(giusto i simboli essenziali ma va bene)"
   ]
  },
  {
   "cell_type": "code",
   "execution_count": null,
   "id": "fc02542f",
   "metadata": {},
   "outputs": [],
   "source": [
    "vbt.TVData.pull()"
   ]
  }
 ],
 "metadata": {
  "kernelspec": {
   "display_name": ".venv",
   "language": "python",
   "name": "python3"
  },
  "language_info": {
   "codemirror_mode": {
    "name": "ipython",
    "version": 3
   },
   "file_extension": ".py",
   "mimetype": "text/x-python",
   "name": "python",
   "nbconvert_exporter": "python",
   "pygments_lexer": "ipython3",
   "version": "3.12.7"
  }
 },
 "nbformat": 4,
 "nbformat_minor": 5
}
